{
 "cells": [
  {
   "cell_type": "code",
   "execution_count": 11,
   "id": "3fa56637-af93-4820-8c10-8c9c8a2b13be",
   "metadata": {},
   "outputs": [
    {
     "name": "stdout",
     "output_type": "stream",
     "text": [
      "[10, 20, 30, 40, 50, 60, 70, 80, 200, 300]\n",
      "[20, 40, 50, 60, 70, 80, 200, 300]\n",
      "[20, 40, 50, 60, 70, 80, 200, 300]\n",
      "[300, 200, 80, 70, 60, 50, 40, 20]\n"
     ]
    }
   ],
   "source": [
    "# 1(a)\n",
    "num = [10, 20, 30, 40, 50, 60, 70, 80]\n",
    "num.append(200)\n",
    "num.append(300)\n",
    "print(num)\n",
    "\n",
    "# 1(b)\n",
    "num.remove(10)\n",
    "num.remove(30)\n",
    "print(num)\n",
    "\n",
    "# 1(c)\n",
    "num.sort()\n",
    "print(num)\n",
    "\n",
    "# 1(d)\n",
    "num.sort()\n",
    "num.reverse()\n",
    "print(num)"
   ]
  },
  {
   "cell_type": "code",
   "execution_count": 33,
   "id": "84a6e0bf-e929-48a4-8193-65fdc2c7249d",
   "metadata": {},
   "outputs": [
    {
     "name": "stdout",
     "output_type": "stream",
     "text": [
      "5\n",
      "2\n",
      "[45, 58, 92, 89, 45.4, 76, 89.5, 45]\n"
     ]
    },
    {
     "name": "stdin",
     "output_type": "stream",
     "text": [
      "enter a value 76\n"
     ]
    },
    {
     "name": "stdout",
     "output_type": "stream",
     "text": [
      "present at index 2\n"
     ]
    }
   ],
   "source": [
    "# 2(a)\n",
    "marks = (45, 89.5, 76, 45.4, 89, 92, 58, 45)\n",
    "max_marks = max(marks)\n",
    "print(marks.index(max_marks))\n",
    "\n",
    "# 2(b)\n",
    "min_marks = min(marks)\n",
    "print(marks.count(min_marks))\n",
    "\n",
    "# 2(c)\n",
    "new_list = list(marks[::-1])\n",
    "print(new_list)\n",
    "\n",
    "# 2(d)\n",
    "n =  int(input('enter a value'))\n",
    "if(n in marks):\n",
    "    pos = marks.index(n)\n",
    "    print('present at index', pos)\n",
    "else:\n",
    "    print('not present')"
   ]
  },
  {
   "cell_type": "code",
   "execution_count": 5,
   "id": "59d8f7fc-6944-4cbe-98a3-dc65568467d8",
   "metadata": {},
   "outputs": [
    {
     "name": "stdout",
     "output_type": "stream",
     "text": [
      "Random Numbers: [105, 684, 883, 681, 735, 888, 882, 706, 768, 679, 152, 560, 380, 314, 836, 170, 621, 814, 593, 194, 586, 474, 860, 812, 192, 658, 279, 317, 409, 701, 821, 427, 368, 336, 625, 561, 421, 184, 742, 226, 390, 271, 276, 634, 175, 622, 888, 104, 212, 222, 711, 856, 548, 549, 817, 222, 894, 872, 875, 806, 449, 358, 697, 356, 412, 398, 564, 849, 665, 120, 760, 238, 435, 571, 600, 746, 380, 695, 399, 777, 842, 432, 630, 328, 334, 608, 593, 575, 222, 132, 450, 841, 128, 643, 294, 557, 106, 689, 741, 774]\n",
      "\n",
      "Count of Odd Numbers: 38\n",
      "Odd Numbers: [105, 883, 681, 735, 679, 621, 593, 279, 317, 409, 701, 821, 427, 625, 561, 421, 271, 175, 711, 549, 817, 875, 449, 697, 849, 665, 435, 571, 695, 399, 777, 593, 575, 841, 643, 557, 689, 741]\n",
      "\n",
      "Count of Even Numbers: 62\n",
      "Even Numbers: [684, 888, 882, 706, 768, 152, 560, 380, 314, 836, 170, 814, 194, 586, 474, 860, 812, 192, 658, 368, 336, 184, 742, 226, 390, 276, 634, 622, 888, 104, 212, 222, 856, 548, 222, 894, 872, 806, 358, 356, 412, 398, 564, 120, 760, 238, 600, 746, 380, 842, 432, 630, 328, 334, 608, 222, 132, 450, 128, 294, 106, 774]\n",
      "\n",
      "Count of Prime Numbers: 13\n",
      "Prime Numbers: [883, 593, 317, 409, 701, 821, 421, 271, 449, 571, 593, 643, 557]\n"
     ]
    }
   ],
   "source": [
    "# 3\n",
    "import random\n",
    "\n",
    "def is_prime(num):\n",
    "    if num > 1:\n",
    "        for i in range(2, (num // 2) + 1):\n",
    "            if num % i == 0:\n",
    "                return False\n",
    "        return True\n",
    "    return False\n",
    "\n",
    "random_numbers = [random.randint(100, 900) for _ in range(100)]\n",
    "\n",
    "odd_numbers = [num for num in random_numbers if num % 2 != 0]\n",
    "even_numbers = [num for num in random_numbers if num % 2 == 0]\n",
    "prime_numbers = [num for num in random_numbers if is_prime(num)]\n",
    "\n",
    "print(\"Random Numbers:\", random_numbers)\n",
    "print(\"\\nCount of Odd Numbers:\", len(odd_numbers))\n",
    "print(\"Odd Numbers:\", odd_numbers)\n",
    "print(\"\\nCount of Even Numbers:\", len(even_numbers))\n",
    "print(\"Even Numbers:\", even_numbers)\n",
    "print(\"\\nCount of Prime Numbers:\", len(prime_numbers))\n",
    "print(\"Prime Numbers:\", prime_numbers)\n"
   ]
  },
  {
   "cell_type": "code",
   "execution_count": 1,
   "id": "bb84bb02-60ee-4dfe-814b-d734bf0f56eb",
   "metadata": {},
   "outputs": [
    {
     "name": "stdout",
     "output_type": "stream",
     "text": [
      "Union: {34, 45, 78, 23, 56, 90}\n",
      "Intersection: {90, 78}\n",
      "A-B: {56, 34}\n",
      "B-A: {45, 23}\n",
      "A is subset of B: False\n",
      "B is superset of A: False\n"
     ]
    },
    {
     "name": "stdin",
     "output_type": "stream",
     "text": [
      "enter a value 56\n"
     ]
    },
    {
     "name": "stdout",
     "output_type": "stream",
     "text": [
      "{34, 90, 78}\n"
     ]
    }
   ],
   "source": [
    "# 4(a)\n",
    "A = {34, 56, 78, 90}\n",
    "B = {78, 45, 90, 23}\n",
    "print('Union:', A.union(B))\n",
    "\n",
    "# 4(b)\n",
    "print('Intersection:', A.intersection(B))\n",
    "\n",
    "# 4(c)\n",
    "print('A-B:', A-B)\n",
    "print('B-A:', B-A)\n",
    "\n",
    "# 4(d)\n",
    "print('A is subset of B:', A.issubset(B))\n",
    "print('B is superset of A:', B.issuperset(A))\n",
    "\n",
    "# 4(e)\n",
    "x = int(input('enter a value'))\n",
    "if x in A:\n",
    "    A.remove(x)\n",
    "    print(A)\n",
    "else:\n",
    "    print('This value is not present in set A')\n",
    "          "
   ]
  },
  {
   "cell_type": "code",
   "execution_count": 7,
   "id": "43adde5a-e04d-412d-9246-ebdb905bd8b0",
   "metadata": {},
   "outputs": [
    {
     "name": "stdout",
     "output_type": "stream",
     "text": [
      "{'name': 'Kelly', 'age': 25, 'salary': 8000, 'location': 'New york'}\n"
     ]
    }
   ],
   "source": [
    "# 5\n",
    "sample_dict = {\n",
    "    \"name\": \"Kelly\",\n",
    "    \"age\": 25,\n",
    "    \"salary\": 8000,\n",
    "    \"city\": \"New york\"\n",
    "}\n",
    "sample_dict[\"location\"] = sample_dict.pop(\"city\")\n",
    "print(sample_dict)\n"
   ]
  }
 ],
 "metadata": {
  "kernelspec": {
   "display_name": "Python [conda env:base] *",
   "language": "python",
   "name": "conda-base-py"
  },
  "language_info": {
   "codemirror_mode": {
    "name": "ipython",
    "version": 3
   },
   "file_extension": ".py",
   "mimetype": "text/x-python",
   "name": "python",
   "nbconvert_exporter": "python",
   "pygments_lexer": "ipython3",
   "version": "3.12.7"
  }
 },
 "nbformat": 4,
 "nbformat_minor": 5
}
