{
 "cells": [
  {
   "cell_type": "code",
   "execution_count": 7,
   "id": "37e7c759-7616-4fbf-9d89-b7dafef8c0c2",
   "metadata": {},
   "outputs": [],
   "source": [
    "import pandas as pd"
   ]
  },
  {
   "cell_type": "code",
   "execution_count": 9,
   "id": "d9bddb49-0028-4f88-ac9f-e202d519316d",
   "metadata": {},
   "outputs": [
    {
     "name": "stdout",
     "output_type": "stream",
     "text": [
      "   Tid Refund Marital Status Taxable Income Cheat\n",
      "0    1    Yes         Single           125K    No\n",
      "1    2     No        Married           100K    No\n",
      "2    3     No         Single            70K    No\n",
      "3    4    Yes        Married           120K    No\n",
      "4    5     No       Divorced            95K   Yes\n",
      "5    6     No        Married            60K    No\n",
      "6    7    Yes       Divorced           220K    No\n",
      "7    8     No         Single            85K   Yes\n",
      "8    9     NO        Married            75K    No\n",
      "9   10     No         Single            90K   Yes\n"
     ]
    }
   ],
   "source": [
    "#1\n",
    "data={\n",
    "    'Tid':[1, 2, 3, 4, 5, 6, 7, 8, 9, 10],\n",
    "    'Refund':['Yes', 'No', 'No', 'Yes', 'No', 'No', 'Yes', 'No', 'NO', 'No'],\n",
    "    'Marital Status':['Single', 'Married', 'Single', 'Married', 'Divorced', 'Married', 'Divorced', 'Single', 'Married', 'Single'],\n",
    "    'Taxable Income':['125K', '100K', '70K', '120K', '95K', '60K', '220K', '85K', '75K', '90K'],\n",
    "    'Cheat':['No', 'No', 'No', 'No', 'Yes', 'No', 'No', 'Yes', 'No', 'Yes']\n",
    "}\n",
    "df=pd.DataFrame(data)\n",
    "print(df)"
   ]
  },
  {
   "cell_type": "code",
   "execution_count": 11,
   "id": "fb229034-ecf5-4f36-b54a-195479c221ad",
   "metadata": {},
   "outputs": [
    {
     "name": "stdout",
     "output_type": "stream",
     "text": [
      "Tid                    1\n",
      "Refund               Yes\n",
      "Marital Status    Single\n",
      "Taxable Income      125K\n",
      "Cheat                 No\n",
      "Name: 0, dtype: object\n",
      "Tid                      5\n",
      "Refund                  No\n",
      "Marital Status    Divorced\n",
      "Taxable Income         95K\n",
      "Cheat                  Yes\n",
      "Name: 4, dtype: object\n",
      "Tid                    8\n",
      "Refund                No\n",
      "Marital Status    Single\n",
      "Taxable Income       85K\n",
      "Cheat                Yes\n",
      "Name: 7, dtype: object\n",
      "Tid                     9\n",
      "Refund                 NO\n",
      "Marital Status    Married\n",
      "Taxable Income        75K\n",
      "Cheat                  No\n",
      "Name: 8, dtype: object\n"
     ]
    }
   ],
   "source": [
    "#2\n",
    "print(df.loc[0])\n",
    "print(df.loc[4])\n",
    "print(df.loc[7])\n",
    "print(df.loc[8])"
   ]
  },
  {
   "cell_type": "code",
   "execution_count": 13,
   "id": "4d46ab3c-516e-4860-8e4d-b34042c525b7",
   "metadata": {},
   "outputs": [
    {
     "data": {
      "text/html": [
       "<div>\n",
       "<style scoped>\n",
       "    .dataframe tbody tr th:only-of-type {\n",
       "        vertical-align: middle;\n",
       "    }\n",
       "\n",
       "    .dataframe tbody tr th {\n",
       "        vertical-align: top;\n",
       "    }\n",
       "\n",
       "    .dataframe thead th {\n",
       "        text-align: right;\n",
       "    }\n",
       "</style>\n",
       "<table border=\"1\" class=\"dataframe\">\n",
       "  <thead>\n",
       "    <tr style=\"text-align: right;\">\n",
       "      <th></th>\n",
       "      <th>Tid</th>\n",
       "      <th>Refund</th>\n",
       "      <th>Marital Status</th>\n",
       "      <th>Taxable Income</th>\n",
       "      <th>Cheat</th>\n",
       "    </tr>\n",
       "  </thead>\n",
       "  <tbody>\n",
       "    <tr>\n",
       "      <th>3</th>\n",
       "      <td>4</td>\n",
       "      <td>Yes</td>\n",
       "      <td>Married</td>\n",
       "      <td>120K</td>\n",
       "      <td>No</td>\n",
       "    </tr>\n",
       "    <tr>\n",
       "      <th>4</th>\n",
       "      <td>5</td>\n",
       "      <td>No</td>\n",
       "      <td>Divorced</td>\n",
       "      <td>95K</td>\n",
       "      <td>Yes</td>\n",
       "    </tr>\n",
       "    <tr>\n",
       "      <th>5</th>\n",
       "      <td>6</td>\n",
       "      <td>No</td>\n",
       "      <td>Married</td>\n",
       "      <td>60K</td>\n",
       "      <td>No</td>\n",
       "    </tr>\n",
       "    <tr>\n",
       "      <th>6</th>\n",
       "      <td>7</td>\n",
       "      <td>Yes</td>\n",
       "      <td>Divorced</td>\n",
       "      <td>220K</td>\n",
       "      <td>No</td>\n",
       "    </tr>\n",
       "    <tr>\n",
       "      <th>7</th>\n",
       "      <td>8</td>\n",
       "      <td>No</td>\n",
       "      <td>Single</td>\n",
       "      <td>85K</td>\n",
       "      <td>Yes</td>\n",
       "    </tr>\n",
       "  </tbody>\n",
       "</table>\n",
       "</div>"
      ],
      "text/plain": [
       "   Tid Refund Marital Status Taxable Income Cheat\n",
       "3    4    Yes        Married           120K    No\n",
       "4    5     No       Divorced            95K   Yes\n",
       "5    6     No        Married            60K    No\n",
       "6    7    Yes       Divorced           220K    No\n",
       "7    8     No         Single            85K   Yes"
      ]
     },
     "execution_count": 13,
     "metadata": {},
     "output_type": "execute_result"
    }
   ],
   "source": [
    "#3(a)\n",
    "df.iloc[3:8]\n"
   ]
  },
  {
   "cell_type": "code",
   "execution_count": 15,
   "id": "3a94339f-0316-44a7-8df5-1c9b93abc10c",
   "metadata": {},
   "outputs": [
    {
     "data": {
      "text/html": [
       "<div>\n",
       "<style scoped>\n",
       "    .dataframe tbody tr th:only-of-type {\n",
       "        vertical-align: middle;\n",
       "    }\n",
       "\n",
       "    .dataframe tbody tr th {\n",
       "        vertical-align: top;\n",
       "    }\n",
       "\n",
       "    .dataframe thead th {\n",
       "        text-align: right;\n",
       "    }\n",
       "</style>\n",
       "<table border=\"1\" class=\"dataframe\">\n",
       "  <thead>\n",
       "    <tr style=\"text-align: right;\">\n",
       "      <th></th>\n",
       "      <th>Marital Status</th>\n",
       "      <th>Taxable Income</th>\n",
       "      <th>Cheat</th>\n",
       "    </tr>\n",
       "  </thead>\n",
       "  <tbody>\n",
       "    <tr>\n",
       "      <th>4</th>\n",
       "      <td>Divorced</td>\n",
       "      <td>95K</td>\n",
       "      <td>Yes</td>\n",
       "    </tr>\n",
       "    <tr>\n",
       "      <th>5</th>\n",
       "      <td>Married</td>\n",
       "      <td>60K</td>\n",
       "      <td>No</td>\n",
       "    </tr>\n",
       "    <tr>\n",
       "      <th>6</th>\n",
       "      <td>Divorced</td>\n",
       "      <td>220K</td>\n",
       "      <td>No</td>\n",
       "    </tr>\n",
       "    <tr>\n",
       "      <th>7</th>\n",
       "      <td>Single</td>\n",
       "      <td>85K</td>\n",
       "      <td>Yes</td>\n",
       "    </tr>\n",
       "    <tr>\n",
       "      <th>8</th>\n",
       "      <td>Married</td>\n",
       "      <td>75K</td>\n",
       "      <td>No</td>\n",
       "    </tr>\n",
       "  </tbody>\n",
       "</table>\n",
       "</div>"
      ],
      "text/plain": [
       "  Marital Status Taxable Income Cheat\n",
       "4       Divorced            95K   Yes\n",
       "5        Married            60K    No\n",
       "6       Divorced           220K    No\n",
       "7         Single            85K   Yes\n",
       "8        Married            75K    No"
      ]
     },
     "execution_count": 15,
     "metadata": {},
     "output_type": "execute_result"
    }
   ],
   "source": [
    "#3(b)\n",
    "df.iloc[4:9, 2:5]"
   ]
  },
  {
   "cell_type": "code",
   "execution_count": 17,
   "id": "558b052c-58ce-4838-b8f7-1513b630b801",
   "metadata": {},
   "outputs": [
    {
     "data": {
      "text/html": [
       "<div>\n",
       "<style scoped>\n",
       "    .dataframe tbody tr th:only-of-type {\n",
       "        vertical-align: middle;\n",
       "    }\n",
       "\n",
       "    .dataframe tbody tr th {\n",
       "        vertical-align: top;\n",
       "    }\n",
       "\n",
       "    .dataframe thead th {\n",
       "        text-align: right;\n",
       "    }\n",
       "</style>\n",
       "<table border=\"1\" class=\"dataframe\">\n",
       "  <thead>\n",
       "    <tr style=\"text-align: right;\">\n",
       "      <th></th>\n",
       "      <th>Refund</th>\n",
       "      <th>Marital Status</th>\n",
       "      <th>Taxable Income</th>\n",
       "    </tr>\n",
       "  </thead>\n",
       "  <tbody>\n",
       "    <tr>\n",
       "      <th>0</th>\n",
       "      <td>Yes</td>\n",
       "      <td>Single</td>\n",
       "      <td>125K</td>\n",
       "    </tr>\n",
       "    <tr>\n",
       "      <th>1</th>\n",
       "      <td>No</td>\n",
       "      <td>Married</td>\n",
       "      <td>100K</td>\n",
       "    </tr>\n",
       "    <tr>\n",
       "      <th>2</th>\n",
       "      <td>No</td>\n",
       "      <td>Single</td>\n",
       "      <td>70K</td>\n",
       "    </tr>\n",
       "    <tr>\n",
       "      <th>3</th>\n",
       "      <td>Yes</td>\n",
       "      <td>Married</td>\n",
       "      <td>120K</td>\n",
       "    </tr>\n",
       "    <tr>\n",
       "      <th>4</th>\n",
       "      <td>No</td>\n",
       "      <td>Divorced</td>\n",
       "      <td>95K</td>\n",
       "    </tr>\n",
       "    <tr>\n",
       "      <th>5</th>\n",
       "      <td>No</td>\n",
       "      <td>Married</td>\n",
       "      <td>60K</td>\n",
       "    </tr>\n",
       "    <tr>\n",
       "      <th>6</th>\n",
       "      <td>Yes</td>\n",
       "      <td>Divorced</td>\n",
       "      <td>220K</td>\n",
       "    </tr>\n",
       "    <tr>\n",
       "      <th>7</th>\n",
       "      <td>No</td>\n",
       "      <td>Single</td>\n",
       "      <td>85K</td>\n",
       "    </tr>\n",
       "    <tr>\n",
       "      <th>8</th>\n",
       "      <td>NO</td>\n",
       "      <td>Married</td>\n",
       "      <td>75K</td>\n",
       "    </tr>\n",
       "    <tr>\n",
       "      <th>9</th>\n",
       "      <td>No</td>\n",
       "      <td>Single</td>\n",
       "      <td>90K</td>\n",
       "    </tr>\n",
       "  </tbody>\n",
       "</table>\n",
       "</div>"
      ],
      "text/plain": [
       "  Refund Marital Status Taxable Income\n",
       "0    Yes         Single           125K\n",
       "1     No        Married           100K\n",
       "2     No         Single            70K\n",
       "3    Yes        Married           120K\n",
       "4     No       Divorced            95K\n",
       "5     No        Married            60K\n",
       "6    Yes       Divorced           220K\n",
       "7     No         Single            85K\n",
       "8     NO        Married            75K\n",
       "9     No         Single            90K"
      ]
     },
     "execution_count": 17,
     "metadata": {},
     "output_type": "execute_result"
    }
   ],
   "source": [
    "#3(c)\n",
    "df.iloc[:, 1:4]"
   ]
  },
  {
   "cell_type": "code",
   "execution_count": 19,
   "id": "078040f1-63a9-4cf4-a7ae-9e69540964ee",
   "metadata": {},
   "outputs": [
    {
     "name": "stdout",
     "output_type": "stream",
     "text": [
      "   Id  SepalLengthCm  SepalWidthCm  PetalLengthCm  PetalWidthCm      Species\n",
      "0   1            5.1           3.5            1.4           0.2  Iris-setosa\n",
      "1   2            4.9           3.0            1.4           0.2  Iris-setosa\n",
      "2   3            4.7           3.2            1.3           0.2  Iris-setosa\n",
      "3   4            4.6           3.1            1.5           0.2  Iris-setosa\n",
      "4   5            5.0           3.6            1.4           0.2  Iris-setosa\n"
     ]
    }
   ],
   "source": [
    "#4\n",
    "df_iris = pd.read_csv(\"Iris.csv\")\n",
    "print(df_iris.head())"
   ]
  },
  {
   "cell_type": "code",
   "execution_count": 21,
   "id": "cdf70260-2dc6-4ef0-b054-bc5c657c2c90",
   "metadata": {},
   "outputs": [
    {
     "name": "stdout",
     "output_type": "stream",
     "text": [
      "      Id  SepalLengthCm  SepalWidthCm  PetalWidthCm         Species\n",
      "0      1            5.1           3.5           0.2     Iris-setosa\n",
      "1      2            4.9           3.0           0.2     Iris-setosa\n",
      "2      3            4.7           3.2           0.2     Iris-setosa\n",
      "3      4            4.6           3.1           0.2     Iris-setosa\n",
      "5      6            5.4           3.9           0.4     Iris-setosa\n",
      "..   ...            ...           ...           ...             ...\n",
      "145  146            6.7           3.0           2.3  Iris-virginica\n",
      "146  147            6.3           2.5           1.9  Iris-virginica\n",
      "147  148            6.5           3.0           2.0  Iris-virginica\n",
      "148  149            6.2           3.4           2.3  Iris-virginica\n",
      "149  150            5.9           3.0           1.8  Iris-virginica\n",
      "\n",
      "[149 rows x 5 columns]\n"
     ]
    }
   ],
   "source": [
    "#5\n",
    "df_iris_modified = df_iris.drop(index=4).drop(df_iris.columns[3], axis=1)\n",
    "print(df_iris_modified)"
   ]
  },
  {
   "cell_type": "code",
   "execution_count": 25,
   "id": "96b60605-11e2-4451-aef2-6e65a72a79ed",
   "metadata": {},
   "outputs": [],
   "source": [
    "#6\n",
    "data_emp = {\n",
    "    'Employee_ID': [101, 102, 103, 104, 105],\n",
    "    'Name': ['Alice', 'Bob', 'Charlie', 'Diana', 'Edward'],\n",
    "    'Department': ['HR', 'IT', 'IT', 'Marketing', 'Sales'],\n",
    "    'Age': [29, 34, 41, 28, 38],\n",
    "    'Salary': [50000, 70000, 65000, 55000, 60000],\n",
    "    'Years_of_Experience': [4, 8, 10, 3, 12],\n",
    "    'Joining_Date': pd.to_datetime(['2020-03-15', '2017-07-19', '2013-06-01', '2021-02-10', '2010-11-25']),\n",
    "    'Gender': ['Female', 'Male', 'Male', 'Female', 'Male'],\n",
    "    'Bonus': [5000, 7000, 6000, 4500, 5000],\n",
    "    'Rating': [4.5, 4.0, 3.8, 4.7, 3.5]\n",
    "}\n",
    "df_emp = pd.DataFrame(data_emp)"
   ]
  },
  {
   "cell_type": "code",
   "execution_count": 27,
   "id": "fe574c40-7564-4fb5-aaf1-f9f6bc168375",
   "metadata": {},
   "outputs": [
    {
     "name": "stdout",
     "output_type": "stream",
     "text": [
      "(5, 10)\n"
     ]
    }
   ],
   "source": [
    "print(df_emp.shape)"
   ]
  },
  {
   "cell_type": "code",
   "execution_count": 29,
   "id": "afc2521b-f0d3-418f-9f3b-275880115770",
   "metadata": {},
   "outputs": [
    {
     "name": "stdout",
     "output_type": "stream",
     "text": [
      "<class 'pandas.core.frame.DataFrame'>\n",
      "RangeIndex: 5 entries, 0 to 4\n",
      "Data columns (total 10 columns):\n",
      " #   Column               Non-Null Count  Dtype         \n",
      "---  ------               --------------  -----         \n",
      " 0   Employee_ID          5 non-null      int64         \n",
      " 1   Name                 5 non-null      object        \n",
      " 2   Department           5 non-null      object        \n",
      " 3   Age                  5 non-null      int64         \n",
      " 4   Salary               5 non-null      int64         \n",
      " 5   Years_of_Experience  5 non-null      int64         \n",
      " 6   Joining_Date         5 non-null      datetime64[ns]\n",
      " 7   Gender               5 non-null      object        \n",
      " 8   Bonus                5 non-null      int64         \n",
      " 9   Rating               5 non-null      float64       \n",
      "dtypes: datetime64[ns](1), float64(1), int64(5), object(3)\n",
      "memory usage: 532.0+ bytes\n",
      "None\n"
     ]
    }
   ],
   "source": [
    "print(df_emp.info())"
   ]
  },
  {
   "cell_type": "code",
   "execution_count": 31,
   "id": "c36c6a0e-fc5f-44be-b126-d3cdc13112fe",
   "metadata": {},
   "outputs": [
    {
     "name": "stdout",
     "output_type": "stream",
     "text": [
      "       Employee_ID        Age       Salary  Years_of_Experience  \\\n",
      "count     5.000000   5.000000      5.00000             5.000000   \n",
      "mean    103.000000  34.000000  60000.00000             7.400000   \n",
      "min     101.000000  28.000000  50000.00000             3.000000   \n",
      "25%     102.000000  29.000000  55000.00000             4.000000   \n",
      "50%     103.000000  34.000000  60000.00000             8.000000   \n",
      "75%     104.000000  38.000000  65000.00000            10.000000   \n",
      "max     105.000000  41.000000  70000.00000            12.000000   \n",
      "std       1.581139   5.612486   7905.69415             3.847077   \n",
      "\n",
      "              Joining_Date   Bonus    Rating  \n",
      "count                    5     5.0  5.000000  \n",
      "mean   2016-08-20 00:00:00  5500.0  4.100000  \n",
      "min    2010-11-25 00:00:00  4500.0  3.500000  \n",
      "25%    2013-06-01 00:00:00  5000.0  3.800000  \n",
      "50%    2017-07-19 00:00:00  5000.0  4.000000  \n",
      "75%    2020-03-15 00:00:00  6000.0  4.500000  \n",
      "max    2021-02-10 00:00:00  7000.0  4.700000  \n",
      "std                    NaN  1000.0  0.494975  \n"
     ]
    }
   ],
   "source": [
    "print(df_emp.describe())"
   ]
  },
  {
   "cell_type": "code",
   "execution_count": 33,
   "id": "f5e4bee9-bb32-4119-b728-f1846db09953",
   "metadata": {},
   "outputs": [
    {
     "name": "stdout",
     "output_type": "stream",
     "text": [
      "       Employee_ID        Age       Salary  Years_of_Experience  \\\n",
      "count     5.000000   5.000000      5.00000             5.000000   \n",
      "mean    103.000000  34.000000  60000.00000             7.400000   \n",
      "min     101.000000  28.000000  50000.00000             3.000000   \n",
      "25%     102.000000  29.000000  55000.00000             4.000000   \n",
      "50%     103.000000  34.000000  60000.00000             8.000000   \n",
      "75%     104.000000  38.000000  65000.00000            10.000000   \n",
      "max     105.000000  41.000000  70000.00000            12.000000   \n",
      "std       1.581139   5.612486   7905.69415             3.847077   \n",
      "\n",
      "              Joining_Date   Bonus    Rating  \n",
      "count                    5     5.0  5.000000  \n",
      "mean   2016-08-20 00:00:00  5500.0  4.100000  \n",
      "min    2010-11-25 00:00:00  4500.0  3.500000  \n",
      "25%    2013-06-01 00:00:00  5000.0  3.800000  \n",
      "50%    2017-07-19 00:00:00  5000.0  4.000000  \n",
      "75%    2020-03-15 00:00:00  6000.0  4.500000  \n",
      "max    2021-02-10 00:00:00  7000.0  4.700000  \n",
      "std                    NaN  1000.0  0.494975  \n"
     ]
    }
   ],
   "source": [
    "print(df_emp.describe())"
   ]
  },
  {
   "cell_type": "code",
   "execution_count": 35,
   "id": "307e9cf3-c303-45a0-a621-1dcd433cf092",
   "metadata": {},
   "outputs": [
    {
     "name": "stdout",
     "output_type": "stream",
     "text": [
      "Average Salary: 60000.0\n",
      "Total Bonus: 27500\n",
      "Youngest Age: 28\n",
      "Highest Rating: 4.7\n"
     ]
    }
   ],
   "source": [
    "print(\"Average Salary:\", df_emp['Salary'].mean())\n",
    "print(\"Total Bonus:\", df_emp['Bonus'].sum())\n",
    "print(\"Youngest Age:\", df_emp['Age'].min())\n",
    "print(\"Highest Rating:\", df_emp['Rating'].max())"
   ]
  },
  {
   "cell_type": "code",
   "execution_count": 37,
   "id": "1b237b17-5181-4710-a826-df76d6868f11",
   "metadata": {},
   "outputs": [
    {
     "name": "stdout",
     "output_type": "stream",
     "text": [
      "Average Salary: 60000.0\n",
      "Total Bonus: 27500\n",
      "Youngest Age: 28\n",
      "Highest Rating: 4.7\n"
     ]
    }
   ],
   "source": [
    "print(\"Average Salary:\", df_emp['Salary'].mean())\n",
    "print(\"Total Bonus:\", df_emp['Bonus'].sum())\n",
    "print(\"Youngest Age:\", df_emp['Age'].min())\n",
    "print(\"Highest Rating:\", df_emp['Rating'].max())"
   ]
  },
  {
   "cell_type": "code",
   "execution_count": 39,
   "id": "334b07c7-46d4-44f5-a384-69084646c9f8",
   "metadata": {},
   "outputs": [
    {
     "name": "stdout",
     "output_type": "stream",
     "text": [
      "   Employee_ID     Name Department  Age  Salary  Years_of_Experience  \\\n",
      "0          101    Alice         HR   29   50000                    4   \n",
      "1          102      Bob         IT   34   70000                    8   \n",
      "2          103  Charlie         IT   41   65000                   10   \n",
      "3          104    Diana  Marketing   28   55000                    3   \n",
      "4          105   Edward      Sales   38   60000                   12   \n",
      "\n",
      "  Joining_Date  Gender  Bonus  Rating   Category  \n",
      "0   2020-03-15  Female   5000     4.5  Excellent  \n",
      "1   2017-07-19    Male   7000     4.0       Good  \n",
      "2   2013-06-01    Male   6000     3.8    Average  \n",
      "3   2021-02-10  Female   4500     4.7  Excellent  \n",
      "4   2010-11-25    Male   5000     3.5    Average  \n"
     ]
    }
   ],
   "source": [
    "def categorize(rating):\n",
    "    if rating >= 4.5:\n",
    "        return \"Excellent\"\n",
    "    elif rating >= 4.0:\n",
    "        return \"Good\"\n",
    "    else:\n",
    "        return \"Average\"\n",
    "\n",
    "df_emp['Category'] = df_emp['Rating'].apply(categorize)\n",
    "print(df_emp)"
   ]
  },
  {
   "cell_type": "code",
   "execution_count": 41,
   "id": "dc849a4a-bda4-46dd-a2a6-1a46f572ac17",
   "metadata": {},
   "outputs": [
    {
     "name": "stdout",
     "output_type": "stream",
     "text": [
      "Employee_ID            0\n",
      "Name                   0\n",
      "Department             0\n",
      "Age                    0\n",
      "Salary                 0\n",
      "Years_of_Experience    0\n",
      "Joining_Date           0\n",
      "Gender                 0\n",
      "Bonus                  0\n",
      "Rating                 0\n",
      "Category               0\n",
      "dtype: int64\n"
     ]
    }
   ],
   "source": [
    "print(df_emp.isnull().sum())"
   ]
  },
  {
   "cell_type": "code",
   "execution_count": 43,
   "id": "9c33e736-861f-4747-a006-1c622785390a",
   "metadata": {},
   "outputs": [
    {
     "name": "stdout",
     "output_type": "stream",
     "text": [
      "    ID     Name Department  Age  Salary  Years_of_Experience Joining_Date  \\\n",
      "0  101    Alice         HR   29   50000                    4   2020-03-15   \n",
      "1  102      Bob         IT   34   70000                    8   2017-07-19   \n",
      "2  103  Charlie         IT   41   65000                   10   2013-06-01   \n",
      "3  104    Diana  Marketing   28   55000                    3   2021-02-10   \n",
      "4  105   Edward      Sales   38   60000                   12   2010-11-25   \n",
      "\n",
      "   Gender  Bonus  Rating   Category  \n",
      "0  Female   5000     4.5  Excellent  \n",
      "1    Male   7000     4.0       Good  \n",
      "2    Male   6000     3.8    Average  \n",
      "3  Female   4500     4.7  Excellent  \n",
      "4    Male   5000     3.5    Average  \n"
     ]
    }
   ],
   "source": [
    "df_emp.rename(columns={'Employee_ID': 'ID'}, inplace=True)\n",
    "print(df_emp)"
   ]
  },
  {
   "cell_type": "code",
   "execution_count": 45,
   "id": "ef6fdbdc-0cc2-4bb9-80a2-6cde47fe6bfd",
   "metadata": {},
   "outputs": [
    {
     "name": "stdout",
     "output_type": "stream",
     "text": [
      "    ID     Name Department  Age  Salary  Years_of_Experience Joining_Date  \\\n",
      "1  102      Bob         IT   34   70000                    8   2017-07-19   \n",
      "2  103  Charlie         IT   41   65000                   10   2013-06-01   \n",
      "4  105   Edward      Sales   38   60000                   12   2010-11-25   \n",
      "\n",
      "  Gender  Bonus  Rating Category  \n",
      "1   Male   7000     4.0     Good  \n",
      "2   Male   6000     3.8  Average  \n",
      "4   Male   5000     3.5  Average  \n",
      "    ID     Name Department  Age  Salary  Years_of_Experience Joining_Date  \\\n",
      "1  102      Bob         IT   34   70000                    8   2017-07-19   \n",
      "2  103  Charlie         IT   41   65000                   10   2013-06-01   \n",
      "\n",
      "  Gender  Bonus  Rating Category  \n",
      "1   Male   7000     4.0     Good  \n",
      "2   Male   6000     3.8  Average  \n"
     ]
    }
   ],
   "source": [
    "over_5_years = df_emp[df_emp['Years_of_Experience'] > 5]\n",
    "print(over_5_years)\n",
    "\n",
    "it_department = df_emp[df_emp['Department'] == 'IT']\n",
    "print(it_department)"
   ]
  },
  {
   "cell_type": "code",
   "execution_count": 47,
   "id": "53f06a17-2383-4d19-861b-cf790308bf90",
   "metadata": {},
   "outputs": [
    {
     "name": "stdout",
     "output_type": "stream",
     "text": [
      "    ID     Name Department  Age  Salary  Years_of_Experience Joining_Date  \\\n",
      "0  101    Alice         HR   29   50000                    4   2020-03-15   \n",
      "1  102      Bob         IT   34   70000                    8   2017-07-19   \n",
      "2  103  Charlie         IT   41   65000                   10   2013-06-01   \n",
      "3  104    Diana  Marketing   28   55000                    3   2021-02-10   \n",
      "4  105   Edward      Sales   38   60000                   12   2010-11-25   \n",
      "\n",
      "   Gender  Bonus  Rating   Category     Tax  \n",
      "0  Female   5000     4.5  Excellent  5000.0  \n",
      "1    Male   7000     4.0       Good  7000.0  \n",
      "2    Male   6000     3.8    Average  6500.0  \n",
      "3  Female   4500     4.7  Excellent  5500.0  \n",
      "4    Male   5000     3.5    Average  6000.0  \n"
     ]
    }
   ],
   "source": [
    "df_emp['Tax'] = df_emp['Salary'] * 0.1\n",
    "print(df_emp)"
   ]
  },
  {
   "cell_type": "code",
   "execution_count": 49,
   "id": "6e8e22b5-4bd0-4d9b-91b7-c4a6b9e8be32",
   "metadata": {},
   "outputs": [],
   "source": [
    "df_emp.to_csv(\"modified_employees.csv\", index=False)"
   ]
  }
 ],
 "metadata": {
  "kernelspec": {
   "display_name": "Python [conda env:base] *",
   "language": "python",
   "name": "conda-base-py"
  },
  "language_info": {
   "codemirror_mode": {
    "name": "ipython",
    "version": 3
   },
   "file_extension": ".py",
   "mimetype": "text/x-python",
   "name": "python",
   "nbconvert_exporter": "python",
   "pygments_lexer": "ipython3",
   "version": "3.12.7"
  }
 },
 "nbformat": 4,
 "nbformat_minor": 5
}
