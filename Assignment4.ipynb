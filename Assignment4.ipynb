{
 "cells": [
  {
   "cell_type": "code",
   "execution_count": 1,
   "id": "576849d2-e9b1-46bf-a643-33c5727b17cd",
   "metadata": {},
   "outputs": [],
   "source": [
    "import numpy as np"
   ]
  },
  {
   "cell_type": "code",
   "execution_count": 5,
   "id": "1a6cb0ad-a050-49f6-8290-6f27718d770c",
   "metadata": {},
   "outputs": [
    {
     "data": {
      "text/plain": [
       "array([3, 4, 5, 6, 7])"
      ]
     },
     "execution_count": 5,
     "metadata": {},
     "output_type": "execute_result"
    }
   ],
   "source": [
    "#1(a)\n",
    "a=np.array([1,2,3,4,5])\n",
    "add=2+a\n",
    "add"
   ]
  },
  {
   "cell_type": "code",
   "execution_count": 7,
   "id": "e2795a97-ff28-403b-b021-be4ab7d44de7",
   "metadata": {},
   "outputs": [
    {
     "data": {
      "text/plain": [
       "array([ 3,  6,  9, 12, 15])"
      ]
     },
     "execution_count": 7,
     "metadata": {},
     "output_type": "execute_result"
    }
   ],
   "source": [
    "#1(b)\n",
    "mult=3*a\n",
    "mult"
   ]
  },
  {
   "cell_type": "code",
   "execution_count": 13,
   "id": "85c2ead6-6481-4e6e-977d-79c40c95dba3",
   "metadata": {},
   "outputs": [
    {
     "data": {
      "text/plain": [
       "array([0.5, 1. , 1.5, 2. , 2.5])"
      ]
     },
     "execution_count": 13,
     "metadata": {},
     "output_type": "execute_result"
    }
   ],
   "source": [
    "#1(c)\n",
    "div=a/2\n",
    "div"
   ]
  },
  {
   "cell_type": "code",
   "execution_count": 23,
   "id": "c74c5fa8-fb7f-432b-bd64-f8129cb83945",
   "metadata": {},
   "outputs": [
    {
     "data": {
      "text/plain": [
       "array([5, 4, 6, 3, 2, 1])"
      ]
     },
     "execution_count": 23,
     "metadata": {},
     "output_type": "execute_result"
    }
   ],
   "source": [
    "#2(a)\n",
    "arr = np.array([1, 2, 3, 6, 4, 5])\n",
    "rev_arr=arr[::-1]\n",
    "rev_arr"
   ]
  },
  {
   "cell_type": "code",
   "execution_count": 32,
   "id": "efe86bd5-9487-46c2-a93f-fbf090248631",
   "metadata": {},
   "outputs": [
    {
     "name": "stdout",
     "output_type": "stream",
     "text": [
      "20\n",
      "70\n"
     ]
    }
   ],
   "source": [
    "#3\n",
    "arr = np.array([[10, 20, 30], \n",
    "                [40, 50, 60], \n",
    "                [70, 80, 90]])\n",
    "\n",
    "# a) Accessing 1st row, 2nd column (index [0,1])\n",
    "element_a = arr[0, 1]\n",
    "# b) Accessing 3rd row, 1st column (index [2,0])\n",
    "element_b = arr[2, 0]\n",
    "\n",
    "print(element_a)\n",
    "print(element_b)\n"
   ]
  },
  {
   "cell_type": "code",
   "execution_count": 34,
   "id": "22856d81-144c-466b-86be-d8714eaffd3b",
   "metadata": {},
   "outputs": [
    {
     "name": "stdout",
     "output_type": "stream",
     "text": [
      "Array: [ 10.    13.75  17.5   21.25  25.    28.75  32.5   36.25  40.    43.75\n",
      "  47.5   51.25  55.    58.75  62.5   66.25  70.    73.75  77.5   81.25\n",
      "  85.    88.75  92.5   96.25 100.  ]\n",
      "Dimensions: 1\n",
      "Shape: (25,)\n",
      "Total elements: 25\n",
      "Data type: float64\n",
      "Total bytes consumed: 200\n",
      "\n",
      "Transpose using reshape():\n",
      " [[ 10.  ]\n",
      " [ 13.75]\n",
      " [ 17.5 ]\n",
      " [ 21.25]\n",
      " [ 25.  ]\n",
      " [ 28.75]\n",
      " [ 32.5 ]\n",
      " [ 36.25]\n",
      " [ 40.  ]\n",
      " [ 43.75]\n",
      " [ 47.5 ]\n",
      " [ 51.25]\n",
      " [ 55.  ]\n",
      " [ 58.75]\n",
      " [ 62.5 ]\n",
      " [ 66.25]\n",
      " [ 70.  ]\n",
      " [ 73.75]\n",
      " [ 77.5 ]\n",
      " [ 81.25]\n",
      " [ 85.  ]\n",
      " [ 88.75]\n",
      " [ 92.5 ]\n",
      " [ 96.25]\n",
      " [100.  ]]\n",
      "\n",
      "Transpose using T attribute:\n",
      " [ 10.    13.75  17.5   21.25  25.    28.75  32.5   36.25  40.    43.75\n",
      "  47.5   51.25  55.    58.75  62.5   66.25  70.    73.75  77.5   81.25\n",
      "  85.    88.75  92.5   96.25 100.  ]\n",
      "\n",
      "Are both transposes identical? False\n"
     ]
    }
   ],
   "source": [
    "#4\n",
    "Your_Name = np.linspace(10, 100, 25)\n",
    "\n",
    "# Printing array properties\n",
    "print(\"Array:\", Your_Name)\n",
    "print(\"Dimensions:\", Your_Name.ndim)   # Number of dimensions\n",
    "print(\"Shape:\", Your_Name.shape)       # Shape of the array\n",
    "print(\"Total elements:\", Your_Name.size)  # Total number of elements\n",
    "print(\"Data type:\", Your_Name.dtype)   # Data type of each element\n",
    "print(\"Total bytes consumed:\", Your_Name.nbytes)  # Total memory consumed\n",
    "\n",
    "# Finding transpose using reshape()\n",
    "transpose_array = Your_Name.reshape(25, 1)\n",
    "print(\"\\nTranspose using reshape():\\n\", transpose_array)\n",
    "\n",
    "# Can we use T attribute?\n",
    "transpose_T = Your_Name.T\n",
    "print(\"\\nTranspose using T attribute:\\n\", transpose_T)\n",
    "\n",
    "# Checking if both methods give the same result\n",
    "print(\"\\nAre both transposes identical?\", np.array_equal(transpose_array, transpose_T))\n"
   ]
  },
  {
   "cell_type": "code",
   "execution_count": 36,
   "id": "1bc26daa-e458-4499-9323-b05140dd5fc9",
   "metadata": {},
   "outputs": [
    {
     "name": "stdout",
     "output_type": "stream",
     "text": [
      "Original 2D Array (ucs420_yourname):\n",
      " [[10 20 30 40]\n",
      " [50 60 70 80]\n",
      " [90 15 20 35]]\n",
      "\n",
      "Mean: 43.333333333333336\n",
      "Median: 37.5\n",
      "Max: 90\n",
      "Min: 10\n",
      "Unique Elements: [10 15 20 30 35 40 50 60 70 80 90]\n",
      "\n",
      "Reshaped Array (4x3):\n",
      " [[10 20 30]\n",
      " [40 50 60]\n",
      " [70 80 90]\n",
      " [15 20 35]]\n",
      "\n",
      "Resized Array (2x3):\n",
      " [[10 20 30]\n",
      " [40 50 60]]\n"
     ]
    }
   ],
   "source": [
    "#5\n",
    "ucs420_yourname = np.array([\n",
    "    [10, 20, 30, 40],\n",
    "    [50, 60, 70, 80],\n",
    "    [90, 15, 20, 35]\n",
    "])\n",
    "\n",
    "# Computing required statistics\n",
    "mean_value = np.mean(ucs420_yourname)    # Mean of all elements\n",
    "median_value = np.median(ucs420_yourname)  # Median\n",
    "max_value = np.max(ucs420_yourname)    # Maximum element\n",
    "min_value = np.min(ucs420_yourname)    # Minimum element\n",
    "unique_elements = np.unique(ucs420_yourname)  # Unique elements\n",
    "\n",
    "# Printing computed values\n",
    "print(\"Original 2D Array (ucs420_yourname):\\n\", ucs420_yourname)\n",
    "print(\"\\nMean:\", mean_value)\n",
    "print(\"Median:\", median_value)\n",
    "print(\"Max:\", max_value)\n",
    "print(\"Min:\", min_value)\n",
    "print(\"Unique Elements:\", unique_elements)\n",
    "\n",
    "# Reshaping to (4 rows, 3 columns)\n",
    "reshaped_ucs420_yourname = ucs420_yourname.reshape(4, 3)\n",
    "print(\"\\nReshaped Array (4x3):\\n\", reshaped_ucs420_yourname)\n",
    "\n",
    "# Resizing to (2 rows, 3 columns)\n",
    "resized_ucs420_yourname = np.resize(ucs420_yourname, (2, 3))\n",
    "print(\"\\nResized Array (2x3):\\n\", resized_ucs420_yourname)\n"
   ]
  }
 ],
 "metadata": {
  "kernelspec": {
   "display_name": "Python [conda env:base] *",
   "language": "python",
   "name": "conda-base-py"
  },
  "language_info": {
   "codemirror_mode": {
    "name": "ipython",
    "version": 3
   },
   "file_extension": ".py",
   "mimetype": "text/x-python",
   "name": "python",
   "nbconvert_exporter": "python",
   "pygments_lexer": "ipython3",
   "version": "3.12.7"
  }
 },
 "nbformat": 4,
 "nbformat_minor": 5
}
