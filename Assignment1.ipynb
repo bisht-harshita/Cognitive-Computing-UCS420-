{
 "cells": [
  {
   "cell_type": "code",
   "execution_count": 1,
   "id": "66b2c2de-6361-4259-a98c-703312b5857d",
   "metadata": {},
   "outputs": [
    {
     "name": "stdout",
     "output_type": "stream",
     "text": [
      "Harshita\n",
      "Harshita\n",
      "Harshita\n"
     ]
    }
   ],
   "source": [
    "#1\n",
    "print(\"Harshita\");\n",
    "print(\"Harshita\");\n",
    "print(\"Harshita\");"
   ]
  },
  {
   "cell_type": "code",
   "execution_count": 3,
   "id": "45f3d2da-f012-4a49-9756-8f83c4e50945",
   "metadata": {},
   "outputs": [
    {
     "name": "stdout",
     "output_type": "stream",
     "text": [
      "10 + 5 + 15 = 30\n"
     ]
    }
   ],
   "source": [
    "#2\n",
    "a = 10\n",
    "b = 5\n",
    "c = 15\n",
    "d = a+b+c\n",
    "print(a,\"+\",b,\"+\",c,\"=\",d)"
   ]
  },
  {
   "cell_type": "code",
   "execution_count": 5,
   "id": "6c72066b-946a-4d8e-b3c7-cc0acfe5e99d",
   "metadata": {},
   "outputs": [
    {
     "name": "stdout",
     "output_type": "stream",
     "text": [
      "cognitivecomputingucs420\n"
     ]
    }
   ],
   "source": [
    "#3\n",
    "a = \"cognitive\"\n",
    "b = \"computing\"\n",
    "c = \"ucs420\"\n",
    "d = a+b+c\n",
    "print(d)\n"
   ]
  },
  {
   "cell_type": "code",
   "execution_count": 7,
   "id": "13447242-4804-4737-bf5e-40ba89c9dc77",
   "metadata": {},
   "outputs": [
    {
     "name": "stdout",
     "output_type": "stream",
     "text": [
      "7 * 1 = 7\n",
      "7 * 2 = 14\n",
      "7 * 3 = 21\n",
      "7 * 4 = 28\n",
      "7 * 5 = 35\n",
      "7 * 6 = 42\n",
      "7 * 7 = 49\n",
      "7 * 8 = 56\n",
      "7 * 9 = 63\n",
      "7 * 10 = 70\n"
     ]
    }
   ],
   "source": [
    "#4\n",
    "for i in range(1, 11):\n",
    "    print(7,\"*\", i, \"=\", i*7)"
   ]
  },
  {
   "cell_type": "code",
   "execution_count": 9,
   "id": "6f0de1ff-3ad1-4163-a5a9-a17122ff99c6",
   "metadata": {},
   "outputs": [
    {
     "name": "stdout",
     "output_type": "stream",
     "text": [
      "9 * 1 = 9\n",
      "9 * 2 = 18\n",
      "9 * 3 = 27\n",
      "9 * 4 = 36\n",
      "9 * 5 = 45\n",
      "9 * 6 = 54\n",
      "9 * 7 = 63\n",
      "9 * 8 = 72\n",
      "9 * 9 = 81\n",
      "9 * 10 = 90\n"
     ]
    }
   ],
   "source": [
    "#5\n",
    "for i in range(1, 11):\n",
    "    print(9,\"*\", i, \"=\", i*9)"
   ]
  },
  {
   "cell_type": "code",
   "execution_count": 11,
   "id": "809b66f1-6b15-4d95-b946-0f1e9f11cb53",
   "metadata": {},
   "outputs": [
    {
     "name": "stdin",
     "output_type": "stream",
     "text": [
      "enter the number 10\n"
     ]
    },
    {
     "name": "stdout",
     "output_type": "stream",
     "text": [
      "10 * 1 = 10\n",
      "10 * 2 = 20\n",
      "10 * 3 = 30\n",
      "10 * 4 = 40\n",
      "10 * 5 = 50\n",
      "10 * 6 = 60\n",
      "10 * 7 = 70\n",
      "10 * 8 = 80\n",
      "10 * 9 = 90\n",
      "10 * 10 = 100\n"
     ]
    }
   ],
   "source": [
    "#6\n",
    "n = int(input(\"enter the number\"))\n",
    "for i in range(1, 11):\n",
    "    print(n,\"*\", i,\"=\", i*n)"
   ]
  },
  {
   "cell_type": "code",
   "execution_count": 13,
   "id": "81133f83-9dfc-4475-8d73-61cf0ecd9307",
   "metadata": {},
   "outputs": [
    {
     "name": "stdin",
     "output_type": "stream",
     "text": [
      "enter 3\n"
     ]
    },
    {
     "name": "stdout",
     "output_type": "stream",
     "text": [
      "sum is =  6\n"
     ]
    }
   ],
   "source": [
    "#7\n",
    "n = int(input(\"enter\"))\n",
    "sum = 0;\n",
    "for i in range(1, n+1):\n",
    "    sum = sum + i\n",
    "print(\"sum is = \", sum)    "
   ]
  },
  {
   "cell_type": "code",
   "execution_count": 15,
   "id": "a0a5deb5-9ed8-4996-9f04-226b1b10523a",
   "metadata": {},
   "outputs": [
    {
     "name": "stdin",
     "output_type": "stream",
     "text": [
      "enter first no 100\n",
      "enter second no 20\n",
      "enter third no 44\n"
     ]
    },
    {
     "name": "stdout",
     "output_type": "stream",
     "text": [
      "maximum no is  100\n"
     ]
    }
   ],
   "source": [
    "#8\n",
    "a = int(input(\"enter first no\"))\n",
    "b = int(input(\"enter second no\"))\n",
    "c = int(input(\"enter third no\"))\n",
    "d = max(a, b, c)\n",
    "print(\"maximum no is \", d)"
   ]
  },
  {
   "cell_type": "code",
   "execution_count": 17,
   "id": "f64f7f5a-57d9-4aee-812b-c488652bbf34",
   "metadata": {},
   "outputs": [
    {
     "name": "stdin",
     "output_type": "stream",
     "text": [
      "enter 63\n"
     ]
    },
    {
     "name": "stdout",
     "output_type": "stream",
     "text": [
      "63\n"
     ]
    }
   ],
   "source": [
    "#9\n",
    "n = int(input(\"enter\"))\n",
    "sum = 0\n",
    "for i in range(1, n+1):\n",
    "    if i%7==0 and i%9==0:\n",
    "        sum = sum+i\n",
    "print(sum)   \n",
    "        "
   ]
  },
  {
   "cell_type": "code",
   "execution_count": 19,
   "id": "89ccf1c0-962b-49b2-9766-1507be12c5a3",
   "metadata": {},
   "outputs": [
    {
     "name": "stdin",
     "output_type": "stream",
     "text": [
      "Enter a number:  10\n"
     ]
    },
    {
     "name": "stdout",
     "output_type": "stream",
     "text": [
      "17\n"
     ]
    }
   ],
   "source": [
    "#10\n",
    "n = int(input(\"Enter a number: \"))\n",
    "sum = 0\n",
    "\n",
    "for i in range(2, n + 1):  \n",
    "    f = 0\n",
    "    for j in range(2, i // 2 + 1):\n",
    "        if i % j == 0:\n",
    "            f = 1\n",
    "            break\n",
    "    if f == 0:\n",
    "        sum += i\n",
    "\n",
    "print(sum)\n"
   ]
  },
  {
   "cell_type": "code",
   "execution_count": 21,
   "id": "5b50b80d-d827-47fa-b95d-64b2f2a0f307",
   "metadata": {},
   "outputs": [
    {
     "name": "stdin",
     "output_type": "stream",
     "text": [
      "Enter a number:  10\n"
     ]
    },
    {
     "name": "stdout",
     "output_type": "stream",
     "text": [
      "Sum of odd numbers from 1 to 10 --> 25\n"
     ]
    }
   ],
   "source": [
    "#11\n",
    "def AddOddNumbers(n):\n",
    "    sum_odds = 0\n",
    "    for i in range(1, n + 1, 2):  \n",
    "        sum_odds += i\n",
    "    return sum_odds\n",
    "\n",
    "# Example function calls and outputs\n",
    "n1 = int(input(\"Enter a number: \"))\n",
    "print(f\"Sum of odd numbers from 1 to {n1} -->\", AddOddNumbers(n1))\n",
    "\n"
   ]
  },
  {
   "cell_type": "code",
   "execution_count": 23,
   "id": "4c1f9037-e134-4b53-8ca1-4608b5240b2f",
   "metadata": {},
   "outputs": [
    {
     "name": "stdin",
     "output_type": "stream",
     "text": [
      "Enter a number:  10\n"
     ]
    },
    {
     "name": "stdout",
     "output_type": "stream",
     "text": [
      "Sum of prime numbers from 1 to 10 --> 17\n"
     ]
    }
   ],
   "source": [
    "#12\n",
    "def IsPrime(num):\n",
    "    if num < 2:\n",
    "        return 0\n",
    "    for i in range(2, num // 2 + 1):\n",
    "        if num % i == 0:\n",
    "            return 0\n",
    "    return 1\n",
    "\n",
    "def SumOfPrimes(n):\n",
    "    sum_primes = 0\n",
    "    for i in range(2, n + 1):\n",
    "        if IsPrime(i):\n",
    "            sum_primes += i\n",
    "    return sum_primes\n",
    "\n",
    "n1 = int(input(\"Enter a number: \"))\n",
    "print(f\"Sum of prime numbers from 1 to {n1} -->\", SumOfPrimes(n1))\n",
    "\n"
   ]
  }
 ],
 "metadata": {
  "kernelspec": {
   "display_name": "Python [conda env:base] *",
   "language": "python",
   "name": "conda-base-py"
  },
  "language_info": {
   "codemirror_mode": {
    "name": "ipython",
    "version": 3
   },
   "file_extension": ".py",
   "mimetype": "text/x-python",
   "name": "python",
   "nbconvert_exporter": "python",
   "pygments_lexer": "ipython3",
   "version": "3.12.7"
  }
 },
 "nbformat": 4,
 "nbformat_minor": 5
}
